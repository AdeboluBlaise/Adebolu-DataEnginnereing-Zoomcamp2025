{
 "cells": [
  {
   "cell_type": "code",
   "execution_count": 3,
   "id": "670a139d-c264-4e37-88bb-99b62e9a6e33",
   "metadata": {},
   "outputs": [
    {
     "name": "stdout",
     "output_type": "stream",
     "text": [
      "Hello World blaise\n"
     ]
    }
   ],
   "source": [
    "print(\"Hello World blaise\")"
   ]
  },
  {
   "cell_type": "code",
   "execution_count": null,
   "id": "889ea86f-bd27-48bf-bdb0-5be9594cfe18",
   "metadata": {},
   "outputs": [],
   "source": []
  }
 ],
 "metadata": {
  "kernelspec": {
   "display_name": "Python 3 (ipykernel)",
   "language": "python",
   "name": "python3"
  },
  "language_info": {
   "codemirror_mode": {
    "name": "ipython",
    "version": 3
   },
   "file_extension": ".py",
   "mimetype": "text/x-python",
   "name": "python",
   "nbconvert_exporter": "python",
   "pygments_lexer": "ipython3",
   "version": "3.12.1"
  }
 },
 "nbformat": 4,
 "nbformat_minor": 5
}
